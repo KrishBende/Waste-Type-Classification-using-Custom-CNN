{
 "cells": [
  {
   "cell_type": "code",
   "execution_count": 1,
   "id": "07cf6b4e",
   "metadata": {},
   "outputs": [],
   "source": [
    "import tensorflow as tf\n",
    "from tensorflow.keras import layers, models\n",
    "import matplotlib.pyplot as plt\n",
    "import os\n",
    "from tensorflow import keras\n",
    "import random\n",
    "import scipy\n",
    "from tensorflow.keras.preprocessing.image import ImageDataGenerator, load_img, img_to_array\n",
    "import numpy as np\n"
   ]
  },
  {
   "cell_type": "code",
   "execution_count": 5,
   "id": "68cd40fd",
   "metadata": {},
   "outputs": [
    {
     "name": "stdout",
     "output_type": "stream",
     "text": [
      "Num GPUs Available:  1\n"
     ]
    }
   ],
   "source": [
    "#Confirming GPU activation with TensorFlow\n",
    "print(\"Num GPUs Available: \", len(tf.config.list_physical_devices('GPU')))"
   ]
  },
  {
   "cell_type": "code",
   "execution_count": 2,
   "id": "01e29c29",
   "metadata": {},
   "outputs": [],
   "source": [
    "data_dir = 'dataset'\n",
    "img_size = (524, 524)   #can be reduced for faster training\n",
    "batch_size = 8          #can be reduced for faster training\n",
    "seed = 42"
   ]
  },
  {
   "cell_type": "code",
   "execution_count": 3,
   "id": "b8117b49",
   "metadata": {},
   "outputs": [
    {
     "name": "stdout",
     "output_type": "stream",
     "text": [
      "Max class size to match: 921\n"
     ]
    }
   ],
   "source": [
    "classes = os.listdir(data_dir)\n",
    "\n",
    "# Count images per class\n",
    "class_counts = {cls: len(os.listdir(os.path.join(data_dir, cls))) for cls in classes}\n",
    "max_count = max(class_counts.values())\n",
    "print(\"Max class size to match:\", max_count)\n"
   ]
  },
  {
   "cell_type": "code",
   "execution_count": 4,
   "id": "6ab56988",
   "metadata": {},
   "outputs": [],
   "source": [
    "aug = ImageDataGenerator(\n",
    "    rotation_range=20,\n",
    "    width_shift_range=0.1,\n",
    "    height_shift_range=0.1,\n",
    "    zoom_range=0.2,\n",
    "    horizontal_flip=True,\n",
    "    fill_mode='nearest'\n",
    ")\n",
    "\n",
    "for cls in classes:\n",
    "    class_path = os.path.join(data_dir, cls)\n",
    "    current_images = os.listdir(class_path)\n",
    "    current_count = len(current_images)\n",
    "    \n",
    "    while current_count < max_count:\n",
    "        img_name = random.choice(current_images)\n",
    "        img_path = os.path.join(class_path, img_name)\n",
    "\n",
    "        # Load and preprocess image\n",
    "        image = load_img(img_path, target_size=img_size)\n",
    "        image = img_to_array(image)\n",
    "        image = np.expand_dims(image, 0)\n",
    "\n",
    "        # Create augmented image\n",
    "        aug_iter = aug.flow(image, batch_size=1)\n",
    "        aug_img = next(aug_iter)[0].astype('uint8')\n",
    "\n",
    "        # Save augmented image\n",
    "        new_filename = f\"aug_{current_count}_{img_name}\"\n",
    "        aug_img_path = os.path.join(class_path, new_filename)\n",
    "        tf.keras.preprocessing.image.save_img(aug_img_path, aug_img)\n",
    "\n",
    "        current_count += 1"
   ]
  },
  {
   "cell_type": "code",
   "execution_count": 6,
   "id": "9de731e3",
   "metadata": {},
   "outputs": [
    {
     "name": "stdout",
     "output_type": "stream",
     "text": [
      "Found 8289 files belonging to 9 classes.\n",
      "Using 6632 files for training.\n",
      "Found 8289 files belonging to 9 classes.\n",
      "Using 1657 files for validation.\n"
     ]
    }
   ],
   "source": [
    "#Dividing into Training and Validation Datasets (80-20)\n",
    "\n",
    "train_ds = tf.keras.preprocessing.image_dataset_from_directory(\n",
    "    data_dir,\n",
    "    validation_split=0.2,\n",
    "    subset='training',\n",
    "    seed=seed,\n",
    "    image_size=img_size,\n",
    "    batch_size=batch_size\n",
    ")\n",
    "\n",
    "val_ds = tf.keras.preprocessing.image_dataset_from_directory(\n",
    "    data_dir,\n",
    "    validation_split=0.2,\n",
    "    subset='validation',\n",
    "    seed=seed,\n",
    "    image_size=img_size,\n",
    "    batch_size=batch_size\n",
    ")"
   ]
  },
  {
   "cell_type": "code",
   "execution_count": 7,
   "id": "53a1e8a7",
   "metadata": {},
   "outputs": [
    {
     "name": "stdout",
     "output_type": "stream",
     "text": [
      "Classes: ['Cardboard', 'Food Organics', 'Glass', 'Metal', 'Miscellaneous Trash', 'Paper', 'Plastic', 'Textile Trash', 'Vegetation']\n"
     ]
    }
   ],
   "source": [
    "#Class Names\n",
    "\n",
    "class_names = train_ds.class_names\n",
    "num_classes = len(class_names)\n",
    "print(\"Classes:\", class_names)"
   ]
  },
  {
   "cell_type": "code",
   "execution_count": 8,
   "id": "93941e34",
   "metadata": {},
   "outputs": [],
   "source": [
    "#Rescaling pixel values from 0-1\n",
    "\n",
    "normalization_layer = layers.Rescaling(1./255)\n",
    "train_ds = train_ds.map(lambda x, y: (normalization_layer(x), y))\n",
    "val_ds = val_ds.map(lambda x, y: (normalization_layer(x), y))"
   ]
  },
  {
   "cell_type": "code",
   "execution_count": 9,
   "id": "bbeb9f5a",
   "metadata": {},
   "outputs": [],
   "source": [
    "#CNN Architecture\n",
    "\n",
    "def build_custom_cnn(input_shape=(524, 524, 3), num_classes=9):\n",
    "    model = models.Sequential()\n",
    "\n",
    "    # Conv Block 1\n",
    "    model.add(layers.Conv2D(32, (3, 3), padding='same', activation='relu', input_shape=input_shape))\n",
    "    model.add(layers.BatchNormalization())\n",
    "    model.add(layers.MaxPooling2D((2, 2)))  # 524 -> 262\n",
    "\n",
    "    # Conv Block 2\n",
    "    model.add(layers.Conv2D(64, (3, 3), padding='same', activation='relu'))\n",
    "    model.add(layers.BatchNormalization())\n",
    "    model.add(layers.MaxPooling2D((2, 2)))  # 262 -> 131\n",
    "\n",
    "    # Conv Block 3\n",
    "    model.add(layers.Conv2D(128, (3, 3), padding='same', activation='relu'))\n",
    "    model.add(layers.BatchNormalization())\n",
    "    model.add(layers.MaxPooling2D((2, 2)))  # 131 -> 65\n",
    "\n",
    "    # Conv Block 4\n",
    "    model.add(layers.Conv2D(256, (3, 3), padding='same', activation='relu'))\n",
    "    model.add(layers.BatchNormalization())\n",
    "    model.add(layers.MaxPooling2D((2, 2)))  # 65 -> 32\n",
    "\n",
    "    # Global Pooling & Dense\n",
    "    model.add(layers.GlobalAveragePooling2D())\n",
    "    model.add(layers.Dense(256, activation='relu'))\n",
    "    model.add(layers.Dropout(0.3))\n",
    "    model.add(layers.Dense(num_classes, activation='softmax'))  # -> 9\n",
    "\n",
    "    return model\n",
    "\n",
    "model = build_custom_cnn(input_shape=(524, 524, 3), num_classes=num_classes)"
   ]
  },
  {
   "cell_type": "code",
   "execution_count": 10,
   "id": "7693206e",
   "metadata": {},
   "outputs": [
    {
     "name": "stdout",
     "output_type": "stream",
     "text": [
      "Model: \"sequential\"\n",
      "_________________________________________________________________\n",
      " Layer (type)                Output Shape              Param #   \n",
      "=================================================================\n",
      " conv2d (Conv2D)             (None, 524, 524, 32)      896       \n",
      "                                                                 \n",
      " batch_normalization (BatchN  (None, 524, 524, 32)     128       \n"
     ]
    },
    {
     "name": "stdout",
     "output_type": "stream",
     "text": [
      " ormalization)                                                   \n",
      "                                                                 \n",
      " max_pooling2d (MaxPooling2D  (None, 262, 262, 32)     0         \n",
      " )                                                               \n",
      "                                                                 \n",
      " conv2d_1 (Conv2D)           (None, 262, 262, 64)      18496     \n",
      "                                                                 \n",
      " batch_normalization_1 (Batc  (None, 262, 262, 64)     256       \n",
      " hNormalization)                                                 \n",
      "                                                                 \n",
      " max_pooling2d_1 (MaxPooling  (None, 131, 131, 64)     0         \n",
      " 2D)                                                             \n",
      "                                                                 \n",
      " conv2d_2 (Conv2D)           (None, 131, 131, 128)     73856     \n",
      "                                                                 \n",
      " batch_normalization_2 (Batc  (None, 131, 131, 128)    512       \n",
      " hNormalization)                                                 \n",
      "                                                                 \n",
      " max_pooling2d_2 (MaxPooling  (None, 65, 65, 128)      0         \n",
      " 2D)                                                             \n",
      "                                                                 \n",
      " conv2d_3 (Conv2D)           (None, 65, 65, 256)       295168    \n",
      "                                                                 \n",
      " batch_normalization_3 (Batc  (None, 65, 65, 256)      1024      \n",
      " hNormalization)                                                 \n",
      "                                                                 \n",
      " max_pooling2d_3 (MaxPooling  (None, 32, 32, 256)      0         \n",
      " 2D)                                                             \n",
      "                                                                 \n",
      " global_average_pooling2d (G  (None, 256)              0         \n",
      " lobalAveragePooling2D)                                          \n",
      "                                                                 \n",
      " dense (Dense)               (None, 256)               65792     \n",
      "                                                                 \n",
      " dropout (Dropout)           (None, 256)               0         \n",
      "                                                                 \n",
      " dense_1 (Dense)             (None, 9)                 2313      \n",
      "                                                                 \n",
      "=================================================================\n",
      "Total params: 458,441\n",
      "Trainable params: 457,481\n",
      "Non-trainable params: 960\n",
      "_________________________________________________________________\n"
     ]
    }
   ],
   "source": [
    "model.compile(optimizer='adam',\n",
    "              loss='sparse_categorical_crossentropy',\n",
    "              metrics=['accuracy'])\n",
    "\n",
    "model.summary()"
   ]
  },
  {
   "cell_type": "code",
   "execution_count": null,
   "id": "0c7d7958",
   "metadata": {},
   "outputs": [
    {
     "name": "stdout",
     "output_type": "stream",
     "text": [
      "Epoch 1/30\n",
      "829/829 [==============================] - 159s 181ms/step - loss: 1.6316 - accuracy: 0.4100 - val_loss: 2.1563 - val_accuracy: 0.3530\n",
      "Epoch 2/30\n",
      "829/829 [==============================] - 151s 182ms/step - loss: 1.3949 - accuracy: 0.5050 - val_loss: 3.7118 - val_accuracy: 0.2112\n",
      "Epoch 3/30\n",
      "829/829 [==============================] - 152s 183ms/step - loss: 1.2396 - accuracy: 0.5531 - val_loss: 1.5769 - val_accuracy: 0.4786\n",
      "Epoch 4/30\n",
      "829/829 [==============================] - 150s 181ms/step - loss: 1.1454 - accuracy: 0.5951 - val_loss: 5.1663 - val_accuracy: 0.1473\n",
      "Epoch 5/30\n",
      "829/829 [==============================] - 152s 183ms/step - loss: 1.0330 - accuracy: 0.6294 - val_loss: 2.3747 - val_accuracy: 0.3639\n",
      "Epoch 6/30\n",
      "829/829 [==============================] - 152s 183ms/step - loss: 0.9738 - accuracy: 0.6508 - val_loss: 2.0646 - val_accuracy: 0.4363\n",
      "Epoch 7/30\n",
      "829/829 [==============================] - 152s 183ms/step - loss: 0.8883 - accuracy: 0.6806 - val_loss: 4.5673 - val_accuracy: 0.1967\n",
      "Epoch 8/30\n",
      "829/829 [==============================] - 152s 183ms/step - loss: 0.8235 - accuracy: 0.7027 - val_loss: 1.2961 - val_accuracy: 0.6035\n",
      "Epoch 9/30\n",
      "829/829 [==============================] - 152s 183ms/step - loss: 0.7422 - accuracy: 0.7268 - val_loss: 1.7667 - val_accuracy: 0.4744\n",
      "Epoch 10/30\n",
      "829/829 [==============================] - 152s 183ms/step - loss: 0.7035 - accuracy: 0.7527 - val_loss: 5.4377 - val_accuracy: 0.2776\n",
      "Epoch 11/30\n",
      "829/829 [==============================] - 152s 183ms/step - loss: 0.6628 - accuracy: 0.7625 - val_loss: 6.7387 - val_accuracy: 0.2505\n",
      "Epoch 12/30\n",
      "829/829 [==============================] - 152s 183ms/step - loss: 0.6150 - accuracy: 0.7836 - val_loss: 2.2336 - val_accuracy: 0.4575\n",
      "Epoch 13/30\n",
      "829/829 [==============================] - 152s 183ms/step - loss: 0.5895 - accuracy: 0.7907 - val_loss: 1.8583 - val_accuracy: 0.5522\n",
      "Epoch 14/30\n",
      "829/829 [==============================] - 152s 183ms/step - loss: 0.5375 - accuracy: 0.8087 - val_loss: 0.8408 - val_accuracy: 0.7483\n",
      "Epoch 15/30\n",
      "829/829 [==============================] - 152s 183ms/step - loss: 0.5036 - accuracy: 0.8236 - val_loss: 8.9487 - val_accuracy: 0.2076\n",
      "Epoch 16/30\n",
      "829/829 [==============================] - 152s 183ms/step - loss: 0.4575 - accuracy: 0.8382 - val_loss: 3.3389 - val_accuracy: 0.4321\n",
      "Epoch 17/30\n",
      "829/829 [==============================] - 152s 183ms/step - loss: 0.4334 - accuracy: 0.8362 - val_loss: 1.9233 - val_accuracy: 0.5546\n",
      "Epoch 18/30\n",
      "829/829 [==============================] - 152s 183ms/step - loss: 0.4195 - accuracy: 0.8483 - val_loss: 2.7000 - val_accuracy: 0.5371\n",
      "Epoch 19/30\n",
      "829/829 [==============================] - 152s 183ms/step - loss: 0.3956 - accuracy: 0.8596 - val_loss: 0.9105 - val_accuracy: 0.7948\n",
      "Epoch 20/30\n",
      "829/829 [==============================] - 152s 183ms/step - loss: 0.3653 - accuracy: 0.8724 - val_loss: 0.5443 - val_accuracy: 0.8588\n",
      "Epoch 21/30\n",
      "829/829 [==============================] - 151s 181ms/step - loss: 0.3583 - accuracy: 0.8712 - val_loss: 2.3570 - val_accuracy: 0.5673\n",
      "Epoch 22/30\n",
      "829/829 [==============================] - 152s 183ms/step - loss: 0.3171 - accuracy: 0.8822 - val_loss: 0.8300 - val_accuracy: 0.8039\n",
      "Epoch 23/30\n",
      "829/829 [==============================] - 152s 183ms/step - loss: 0.3278 - accuracy: 0.8850 - val_loss: 1.5196 - val_accuracy: 0.6397\n",
      "Epoch 24/30\n",
      "829/829 [==============================] - 152s 183ms/step - loss: 0.2951 - accuracy: 0.8975 - val_loss: 1.7451 - val_accuracy: 0.6711\n",
      "Epoch 25/30\n",
      "829/829 [==============================] - 152s 183ms/step - loss: 0.2702 - accuracy: 0.9046 - val_loss: 0.6814 - val_accuracy: 0.8455\n",
      "Epoch 26/30\n",
      "829/829 [==============================] - 152s 183ms/step - loss: 0.2870 - accuracy: 0.8997 - val_loss: 0.6268 - val_accuracy: 0.8636\n",
      "Epoch 27/30\n",
      "829/829 [==============================] - 152s 183ms/step - loss: 0.2539 - accuracy: 0.9134 - val_loss: 0.7644 - val_accuracy: 0.7966\n",
      "Epoch 28/30\n",
      "829/829 [==============================] - 152s 183ms/step - loss: 0.2490 - accuracy: 0.9125 - val_loss: 1.2260 - val_accuracy: 0.6765\n",
      "Epoch 29/30\n",
      "829/829 [==============================] - 152s 183ms/step - loss: 0.2271 - accuracy: 0.9207 - val_loss: 3.8727 - val_accuracy: 0.5226\n",
      "Epoch 30/30\n",
      "829/829 [==============================] - 152s 183ms/step - loss: 0.2264 - accuracy: 0.9154 - val_loss: 1.3182 - val_accuracy: 0.7164\n"
     ]
    }
   ],
   "source": [
    "history = model.fit(\n",
    "    train_ds,\n",
    "    validation_data=val_ds,\n",
    "    epochs=30\n",
    ")"
   ]
  },
  {
   "cell_type": "code",
   "execution_count": 13,
   "id": "72a06313",
   "metadata": {},
   "outputs": [
    {
     "data": {
      "image/png": "[encoded data removed]",
      "text/plain": [
       "<Figure size 1000x400 with 2 Axes>"
      ]
     },
     "metadata": {},
     "output_type": "display_data"
    }
   ],
   "source": [
    "plt.figure(figsize=(10, 4))\n",
    "plt.subplot(1, 2, 1)\n",
    "plt.plot(history.history['accuracy'], label='Train Acc')\n",
    "plt.plot(history.history['val_accuracy'], label='Val Acc')\n",
    "plt.legend()\n",
    "plt.title('Accuracy')\n",
    "\n",
    "plt.subplot(1, 2, 2)\n",
    "plt.plot(history.history['loss'], label='Train Loss')\n",
    "plt.plot(history.history['val_loss'], label='Val Loss')\n",
    "plt.legend()\n",
    "plt.title('Loss')\n",
    "plt.show()"
   ]
  },
  {
   "cell_type": "code",
   "execution_count": 21,
   "id": "4dce3ec3",
   "metadata": {},
   "outputs": [],
   "source": [
    "model.save('custom_cnn_model_tf.keras')"
   ]
  },
  {
   "cell_type": "code",
   "execution_count": null,
   "id": "509f84d8",
   "metadata": {},
   "outputs": [],
   "source": [
    "model = keras.models.load_model('custom_cnn_model_tf.keras')"
   ]
  },
  {
   "cell_type": "code",
   "execution_count": 19,
   "id": "63c6fe94",
   "metadata": {},
   "outputs": [
    {
     "name": "stdout",
     "output_type": "stream",
     "text": [
      "829/829 [==============================] - 53s 64ms/step - loss: 0.9571 - accuracy: 0.7685\n",
      "Training Loss: 0.9571\n",
      "Training Accuracy: 0.7685\n",
      "208/208 [==============================] - 13s 63ms/step - loss: 1.3182 - accuracy: 0.7164\n",
      "Validation Loss: 1.3182\n",
      "Validation Accuracy: 0.7164\n"
     ]
    }
   ],
   "source": [
    "loss, accuracy = model.evaluate(train_ds)\n",
    "print(f\"Training Loss: {loss:.4f}\")\n",
    "print(f\"Training Accuracy: {accuracy:.4f}\")\n",
    "\n",
    "loss, accuracy = model.evaluate(val_ds)\n",
    "print(f\"Validation Loss: {loss:.4f}\")\n",
    "print(f\"Validation Accuracy: {accuracy:.4f}\")"
   ]
  },
  {
   "cell_type": "markdown",
   "id": "33e733a9",
   "metadata": {},
   "source": [
    "To increase Validation Accuracy and reduce Validation Loss-\n",
    "\n",
    "1. Add more filters to each convolution layer, to extract more precise features\n",
    "\n",
    "2. Train for more epochs\n",
    "\n",
    "3. Reduce Dropout rate"
   ]
  }
 ],
 "metadata": {
  "kernelspec": {
   "display_name": "tf-py310",
   "language": "python",
   "name": "python3"
  },
  "language_info": {
   "codemirror_mode": {
    "name": "ipython",
    "version": 3
   },
   "file_extension": ".py",
   "mimetype": "text/x-python",
   "name": "python",
   "nbconvert_exporter": "python",
   "pygments_lexer": "ipython3",
   "version": "3.10.16"
  }
 },
 "nbformat": 4,
 "nbformat_minor": 5
}
